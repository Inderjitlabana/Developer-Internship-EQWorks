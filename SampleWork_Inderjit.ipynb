{
 "cells": [
  {
   "cell_type": "code",
   "execution_count": 1,
   "metadata": {},
   "outputs": [],
   "source": [
    "import pandas as pd\n",
    "import numpy as np"
   ]
  },
  {
   "cell_type": "code",
   "execution_count": 19,
   "metadata": {},
   "outputs": [],
   "source": [
    "loan_df = pd.read_csv(r'C:\\Users\\User\\Desktop\\EQWorksSample\\DataSample.csv')"
   ]
  },
  {
   "cell_type": "code",
   "execution_count": 20,
   "metadata": {},
   "outputs": [
    {
     "data": {
      "text/plain": [
       "(22025, 7)"
      ]
     },
     "execution_count": 20,
     "metadata": {},
     "output_type": "execute_result"
    }
   ],
   "source": [
    "loan_df.shape"
   ]
  },
  {
   "cell_type": "code",
   "execution_count": 21,
   "metadata": {},
   "outputs": [
    {
     "name": "stdout",
     "output_type": "stream",
     "text": [
      "           _ID                   TimeSt Country Province              City  \\\n",
      "0      4516516  2017-06-21 00:00:00.143      CA       ON          Waterloo   \n",
      "1      4516547  2017-06-21 18:00:00.193      CA       ON            London   \n",
      "2      4516550  2017-06-21 15:00:00.287      CA       ON            Guelph   \n",
      "3      4516600  2017-06-21 15:00:00.307      CA       ON         Stratford   \n",
      "4      4516613  2017-06-21 15:00:00.497      CA       ON         Stratford   \n",
      "...        ...                      ...     ...      ...               ...   \n",
      "22020  5614801  2017-06-21 12:23:07.880      CA       ON  Saint Catharines   \n",
      "22021  5614888  2017-06-21 08:23:01.793      CA       AB           Calgary   \n",
      "22022  5614909  2017-06-21 00:23:07.903      CA       ON            Whitby   \n",
      "22023  5614912  2017-06-21 11:23:07.953      CA       ON          Oakville   \n",
      "22024  5615006  2017-06-21 17:23:08.033      CA       ON          Oakville   \n",
      "\n",
      "       Latitude  Longitude  \n",
      "0      43.49347  -80.49123  \n",
      "1      42.93990  -81.27090  \n",
      "2      43.57760  -80.22010  \n",
      "3      43.37160  -80.97730  \n",
      "4      43.37160  -80.97730  \n",
      "...         ...        ...  \n",
      "22020  43.16440  -79.24560  \n",
      "22021  51.02093 -114.10621  \n",
      "22022  43.88730  -78.94220  \n",
      "22023  43.49340  -79.71260  \n",
      "22024  43.43090  -79.77670  \n",
      "\n",
      "[22025 rows x 7 columns]\n"
     ]
    }
   ],
   "source": [
    "print(loan_df)"
   ]
  },
  {
   "cell_type": "code",
   "execution_count": 28,
   "metadata": {},
   "outputs": [],
   "source": [
    "loan_df=loan_df[loan_df.duplicated(subset=['Latitude','Longitude'])]"
   ]
  },
  {
   "cell_type": "code",
   "execution_count": 29,
   "metadata": {},
   "outputs": [
    {
     "name": "stdout",
     "output_type": "stream",
     "text": [
      "           _ID                   TimeSt Country Province              City  \\\n",
      "12     4517047  2017-06-21 12:00:00.950      CA       ON            London   \n",
      "25     4517607  2017-06-21 01:00:01.623      CA       ON           Chatham   \n",
      "30     4517905  2017-06-21 17:00:00.183      CA       ON           Windsor   \n",
      "45     4518585  2017-06-21 06:00:02.827      CA       ON            Guelph   \n",
      "46     4518676  2017-06-21 05:00:02.857      CA       ON         Kitchener   \n",
      "...        ...                      ...     ...      ...               ...   \n",
      "22020  5614801  2017-06-21 12:23:07.880      CA       ON  Saint Catharines   \n",
      "22021  5614888  2017-06-21 08:23:01.793      CA       AB           Calgary   \n",
      "22022  5614909  2017-06-21 00:23:07.903      CA       ON            Whitby   \n",
      "22023  5614912  2017-06-21 11:23:07.953      CA       ON          Oakville   \n",
      "22024  5615006  2017-06-21 17:23:08.033      CA       ON          Oakville   \n",
      "\n",
      "       Latitude  Longitude  \n",
      "12     43.00910  -81.17650  \n",
      "25     42.42470  -82.17550  \n",
      "30     42.29570  -82.95990  \n",
      "45     43.57760  -80.22010  \n",
      "46     43.43970  -80.43400  \n",
      "...         ...        ...  \n",
      "22020  43.16440  -79.24560  \n",
      "22021  51.02093 -114.10621  \n",
      "22022  43.88730  -78.94220  \n",
      "22023  43.49340  -79.71260  \n",
      "22024  43.43090  -79.77670  \n",
      "\n",
      "[14231 rows x 7 columns]\n"
     ]
    }
   ],
   "source": [
    "print(loan_df)"
   ]
  },
  {
   "cell_type": "code",
   "execution_count": null,
   "metadata": {},
   "outputs": [],
   "source": []
  }
 ],
 "metadata": {
  "kernelspec": {
   "display_name": "Python 3",
   "language": "python",
   "name": "python3"
  },
  "language_info": {
   "codemirror_mode": {
    "name": "ipython",
    "version": 3
   },
   "file_extension": ".py",
   "mimetype": "text/x-python",
   "name": "python",
   "nbconvert_exporter": "python",
   "pygments_lexer": "ipython3",
   "version": "3.8.5"
  }
 },
 "nbformat": 4,
 "nbformat_minor": 4
}
